{
 "cells": [
  {
   "cell_type": "markdown",
   "metadata": {},
   "source": [
    "# SVM Text Classifier\n",
    "This module uses support vector machines (SVM) to create a model for predicting risk level as a function of text data"
   ]
  },
  {
   "cell_type": "markdown",
   "metadata": {},
   "source": [
    "To get started, we import the `svm_text_classifier` along with some standard numerical packages:"
   ]
  },
  {
   "cell_type": "code",
   "execution_count": 1,
   "metadata": {},
   "outputs": [],
   "source": [
    "import numpy as np\n",
    "import pandas as pd\n",
    "import matplotlib.pyplot as plt\n",
    "\n",
    "from svm_text_classifier import SVM_text_class"
   ]
  },
  {
   "cell_type": "markdown",
   "metadata": {},
   "source": [
    "First, we load a set of sample data that contains text entries and corresponding risk levels:"
   ]
  },
  {
   "cell_type": "code",
   "execution_count": 2,
   "metadata": {},
   "outputs": [],
   "source": [
    "df = pd.read_csv('./data/test_data.csv', index_col=0)"
   ]
  },
  {
   "cell_type": "markdown",
   "metadata": {},
   "source": [
    "Inspecting to see what we have:"
   ]
  },
  {
   "cell_type": "code",
   "execution_count": 3,
   "metadata": {},
   "outputs": [
    {
     "name": "stdout",
     "output_type": "stream",
     "text": [
      "Number of entries: 150\n",
      "      Risk_level                                           Synopsis\n",
      "2510           2  B757-200 NOSEWHEEL STEERING FAILS ON ENTRY TO ...\n",
      "1189           4  C172 instructor pilot reported detecting exhau...\n",
      "336            1  AN ACR PLT RPTS THAT MIA TERMINAL 'A' GATE '10...\n",
      "2348           5  During an installation of a B777-200 Nose Land...\n",
      "772            3  An air crew on a departure were cleared to 6;0...\n"
     ]
    }
   ],
   "source": [
    "print('Number of entries:', len(df))\n",
    "print(df.head())"
   ]
  },
  {
   "cell_type": "markdown",
   "metadata": {},
   "source": [
    "Let's randomly split up the data set into training and test portions:"
   ]
  },
  {
   "cell_type": "code",
   "execution_count": 4,
   "metadata": {},
   "outputs": [],
   "source": [
    "np.random.seed(1)\n",
    "train_idx = np.random.choice(len(df), size=100, replace=False)\n",
    "train_flags = np.repeat(False, len(df))\n",
    "train_flags[train_idx] = True\n",
    "test_flags = ~train_flags\n",
    "df_train = df[train_flags]\n",
    "df_test = df[test_flags]"
   ]
  },
  {
   "cell_type": "markdown",
   "metadata": {},
   "source": [
    "Now let's create an SVM classifier using the training set:"
   ]
  },
  {
   "cell_type": "code",
   "execution_count": 5,
   "metadata": {},
   "outputs": [],
   "source": [
    "classifier = SVM_text_class(df.loc[train_flags,'Synopsis'], df.loc[train_flags,'Risk_level'])"
   ]
  },
  {
   "cell_type": "markdown",
   "metadata": {},
   "source": [
    "We use the classifier to predict the risk level in the cases that were not used in model training:"
   ]
  },
  {
   "cell_type": "code",
   "execution_count": 6,
   "metadata": {},
   "outputs": [],
   "source": [
    "predictions = classifier.pred(df_test['Synopsis'])"
   ]
  },
  {
   "cell_type": "markdown",
   "metadata": {},
   "source": [
    "Let's take a look at how some of the individual predictions compare to the actual risk levels:"
   ]
  },
  {
   "cell_type": "code",
   "execution_count": 7,
   "metadata": {},
   "outputs": [
    {
     "name": "stdout",
     "output_type": "stream",
     "text": [
      "Synopsis: B757-200 NOSEWHEEL STEERING FAILS ON ENTRY TO RWY.\n",
      "    Actual Risk = 2, Predicted Risk = 3\n",
      "Synopsis: C172 instructor pilot reported detecting exhaust f\n",
      "    Actual Risk = 4, Predicted Risk = 3\n",
      "Synopsis: During an installation of a B777-200 Nose Landing \n",
      "    Actual Risk = 5, Predicted Risk = 2\n",
      "Synopsis: PA28 pilot reports entering a spin during a visual\n",
      "    Actual Risk = 4, Predicted Risk = 5\n",
      "Synopsis: A helicopter pilot took off and crossed an active \n",
      "    Actual Risk = 4, Predicted Risk = 1\n",
      "Synopsis: EMB170 Captain arriving ORD from the south describ\n",
      "    Actual Risk = 4, Predicted Risk = 1\n",
      "Synopsis: EMB145 First Officer describes a ground conflict t\n",
      "    Actual Risk = 3, Predicted Risk = 5\n",
      "Synopsis: MD-83 Captain reported 'R OIL STRAINER CLOG' light\n",
      "    Actual Risk = 2, Predicted Risk = 1\n",
      "Synopsis: A B737-300 CAPT REPORTS AN ACR DE-ICE CREW'S FAILU\n",
      "    Actual Risk = 2, Predicted Risk = 2\n",
      "Synopsis: A CRJ200's engine displayed high ITT and after an \n",
      "    Actual Risk = 5, Predicted Risk = 5\n"
     ]
    }
   ],
   "source": [
    "for i in range(10):\n",
    "    row = df_test.iloc[i]\n",
    "    print('Synopsis:', row['Synopsis'][:50])\n",
    "    print('    Actual Risk = {}, Predicted Risk = {}'.format(row['Risk_level'], predictions[i]))"
   ]
  },
  {
   "cell_type": "markdown",
   "metadata": {},
   "source": [
    "We can also create a cross-validation plot that compares the actual risk levels to the known risk levels within the test set (we apply a small amount of random \"jitter\" in the plotted values to mitigate the effect of multiple data points plotting on top of each other):"
   ]
  },
  {
   "cell_type": "code",
   "execution_count": 8,
   "metadata": {},
   "outputs": [
    {
     "data": {
      "image/png": "[encoded data removed]",
      "text/plain": [
       "<Figure size 432x288 with 1 Axes>"
      ]
     },
     "metadata": {
      "needs_background": "light"
     },
     "output_type": "display_data"
    }
   ],
   "source": [
    "f, ax = plt.subplots()\n",
    "ax.plot(predictions+np.random.normal(0,0.03,size=len(predictions)), df_test['Risk_level'], 'o', mfc='none')\n",
    "ax.set_xlabel('Predicted risk level')\n",
    "ax.set_ylabel('Actual risk level')\n",
    "ax.set_title('Cross-validation for test set');"
   ]
  },
  {
   "cell_type": "markdown",
   "metadata": {},
   "source": [
    "We can create a similar plot using the data from the training set:"
   ]
  },
  {
   "cell_type": "code",
   "execution_count": 9,
   "metadata": {},
   "outputs": [
    {
     "data": {
      "image/png": "[encoded data removed]",
      "text/plain": [
       "<Figure size 432x288 with 1 Axes>"
      ]
     },
     "metadata": {
      "needs_background": "light"
     },
     "output_type": "display_data"
    }
   ],
   "source": [
    "df_train = df.loc[train_flags]\n",
    "f, ax = plt.subplots()\n",
    "ax.plot(classifier.pred(df_train['Synopsis']), df_train['Risk_level'], 'o')\n",
    "ax.set_xlabel('Predicted risk level')\n",
    "ax.set_ylabel('Actual risk level')\n",
    "ax.set_title('Cross-validation for training set');"
   ]
  },
  {
   "cell_type": "markdown",
   "metadata": {},
   "source": [
    "The cross-validation for the training set is not too interesting, because the model correctly predicts the risk level associated with each of the training cases."
   ]
  }
 ],
 "metadata": {
  "kernelspec": {
   "display_name": "Python 3",
   "language": "python",
   "name": "python3"
  },
  "language_info": {
   "codemirror_mode": {
    "name": "ipython",
    "version": 3
   },
   "file_extension": ".py",
   "mimetype": "text/x-python",
   "name": "python",
   "nbconvert_exporter": "python",
   "pygments_lexer": "ipython3",
   "version": "3.6.9"
  }
 },
 "nbformat": 4,
 "nbformat_minor": 4
}
